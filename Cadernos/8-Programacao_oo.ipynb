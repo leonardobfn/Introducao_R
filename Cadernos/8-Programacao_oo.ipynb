{
  "cells": [
    {
      "cell_type": "raw",
      "metadata": {},
      "source": [
        "---\n",
        "title: \"Programação Orientada a Objetos\"\n",
        "format: \n",
        "    html:\n",
        "      toc: true\n",
        "      toc_depth: 3\n",
        "      number_sections: true\n",
        "      number-depth: 3\n",
        "      html-math-method: katex\n",
        "      toc-title: Sumário\n",
        "      smooth-scroll: true\n",
        "execute:\n",
        "  echo: true\n",
        "  message: false\n",
        "  warning: false\n",
        "---"
      ],
      "id": "4532bb7f"
    },
    {
      "cell_type": "markdown",
      "metadata": {},
      "source": [
        "# Definição\n",
        "\n",
        "-   Nesta [Aula](https://leonardobfn.github.io/webpage/Cursos/Introducao_R/Cadernos/6-Programacao_Funcional.html) foram apresentados os conceitos de paradigma de programação e programação funcional\n",
        "\n",
        "-   Aqui vamos apresentar o paradigma de programação orientada a objetos\n",
        "\n",
        "-   Considere as figuras a seguir:\n",
        "\n",
        "    ![](Figuras/classe2.png)\n",
        "\n",
        "![](Figuras/classe.png)\n",
        "\n",
        "-   Uma classe é um conjunto de características e comportamentos que definem o conjunto de objetos pertencentes à essa classe.\n",
        "\n",
        "-   Classe em si é um conceito abstrato, como um molde, que se torna concreto através da criação de um objeto.\n",
        "\n",
        "-   Essa criação é denominada *instanciação da classe*, como se estivéssemos usando esse molde (classe) para criar um objeto.\n",
        "\n",
        "-   A programação orientada a objetos (POO) é um paradigma de programação que utiliza \"objetos\" na estruturação do código.\n",
        "\n",
        "-   Esses objetos combinam dados (atributos) e comportamento (métodos)\n",
        "\n",
        "    ![](Figuras/classe_instancia.png)\n",
        "\n",
        "-   Você cria um objeto de determinada classe e depois utiliza os métodos/funções que aquela classe permite.\n",
        "\n",
        "-   Portanto, os sistemas de orientação objetos permitem a criação de uma classe que define um objeto com atributos (dados/informações) e métodos que descrevam o que esse objeto pode realizar\n",
        "\n",
        "-   Em Python, por exemplo, isso é feito da seguinte forma:\n"
      ],
      "id": "f66d7c80"
    },
    {
      "cell_type": "code",
      "metadata": {},
      "source": [
        "#|eval: false\n",
        "\n",
        "# Definição da classe 'Pessoa'\n",
        "class Pessoa:\n",
        "    # Método de inicialização\n",
        "    def __init__(self, nome, idade):\n",
        "        self.nome = nome\n",
        "        self.idade = idade\n",
        "    \n",
        "    # Método para apresentar a pessoa\n",
        "    def apresentar(self):\n",
        "        print(f\"Olá, eu sou {self.nome} e tenho {self.idade} anos.\")\n",
        "\n",
        "# Instanciando objetos da classe 'Pessoa'\n",
        "pessoa1 = Pessoa(\"João\", 30)\n",
        "pessoa2 = Pessoa(\"Maria\", 25)\n",
        "\n",
        "# Chamando o método 'apresentar' para cada objeto\n",
        "pessoa1.apresentar()\n",
        "pessoa2.apresentar()"
      ],
      "id": "c63d403b",
      "execution_count": null,
      "outputs": []
    },
    {
      "cell_type": "markdown",
      "metadata": {},
      "source": [
        "# Razões para usar orientação a objetos\n",
        "\n",
        "-   Em R, existem vários sistemas OOP para escolher. Aqui vamos considerar os sistemas S3 e S4.\n",
        "\n",
        "-   S3 é usado em toda a base R, por isso é importante dominá-lo se você deseja estender as funções da base R para trabalhar com novos tipos de entrada.\n",
        "\n",
        "-   S4 também é baseada em uma combinação de classes e métodos , oferecendo um sistema mais rigoroso e robusto em comparação com o sistema S3. Alguns objetos espaciais ( dados com georeferências) são objetos criados a partir de sistemas S4.\n",
        "\n",
        "# Referências\n",
        "\n",
        "-   [[Advanced R]{.underline}](https://adv-r.hadley.nz/index.html)\n",
        "\n",
        "-   [[R for Data Science]{.underline}](https://r4ds.had.co.nz/index.html)\n",
        "\n",
        "-   [Hands-On Programming with R](https://web.itu.edu.tr/~tokerem/Hands-On_R.pdf)"
      ],
      "id": "deabf3b4"
    }
  ],
  "metadata": {
    "kernelspec": {
      "display_name": "Python 3",
      "language": "python",
      "name": "python3"
    }
  },
  "nbformat": 4,
  "nbformat_minor": 5
}